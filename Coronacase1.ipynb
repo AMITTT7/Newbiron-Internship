{
 "cells": [
  {
   "cell_type": "markdown",
   "id": "f3c7e21e",
   "metadata": {},
   "source": [
    "www.Worldometer.info"
   ]
  },
  {
   "cell_type": "code",
   "execution_count": 12,
   "id": "3f1f3d55",
   "metadata": {},
   "outputs": [],
   "source": [
    "import requests\n",
    "import bs4\n",
    "import pandas as pd\n",
    "import matplotlib.pyplot as plt"
   ]
  },
  {
   "cell_type": "code",
   "execution_count": 2,
   "id": "661fe8b4",
   "metadata": {},
   "outputs": [],
   "source": [
    "url = 'https://www.worldometers.info/coronavirus/country/india'\n",
    "result = requests.get(url)"
   ]
  },
  {
   "cell_type": "code",
   "execution_count": 3,
   "id": "c3250613",
   "metadata": {},
   "outputs": [],
   "source": [
    "soup = bs4.BeautifulSoup(result.text, 'lxml')"
   ]
  },
  {
   "cell_type": "code",
   "execution_count": 4,
   "id": "1bf1680a",
   "metadata": {},
   "outputs": [],
   "source": [
    "cases = soup.find_all('div', class_= 'maincounter-number')"
   ]
  },
  {
   "cell_type": "code",
   "execution_count": 5,
   "id": "aafe6d1d",
   "metadata": {},
   "outputs": [],
   "source": [
    "data = []"
   ]
  },
  {
   "cell_type": "code",
   "execution_count": 6,
   "id": "913debe8",
   "metadata": {},
   "outputs": [],
   "source": [
    "for i in cases:\n",
    "    span = i.find('span')\n",
    "    data.append(span.string)"
   ]
  },
  {
   "cell_type": "code",
   "execution_count": 7,
   "id": "8582c3fe",
   "metadata": {},
   "outputs": [
    {
     "name": "stdout",
     "output_type": "stream",
     "text": [
      "['44,994,407        ', '531,910', '44,461,044']\n"
     ]
    }
   ],
   "source": [
    "print(data)"
   ]
  },
  {
   "cell_type": "code",
   "execution_count": 8,
   "id": "8bb08759",
   "metadata": {},
   "outputs": [],
   "source": [
    "df = pd.DataFrame({\"CoronaData\": data})"
   ]
  },
  {
   "cell_type": "code",
   "execution_count": 9,
   "id": "5015dba4",
   "metadata": {},
   "outputs": [],
   "source": [
    "df.index = ['TotalCases', ' Deaths', 'Recovered']"
   ]
  },
  {
   "cell_type": "code",
   "execution_count": 11,
   "id": "1b3bcf9e",
   "metadata": {},
   "outputs": [],
   "source": [
    "df.to_csv('Corona_data.csv')"
   ]
  },
  {
   "cell_type": "code",
   "execution_count": 22,
   "id": "5a886b23",
   "metadata": {},
   "outputs": [
    {
     "data": {
      "text/html": [
       "<div>\n",
       "<style scoped>\n",
       "    .dataframe tbody tr th:only-of-type {\n",
       "        vertical-align: middle;\n",
       "    }\n",
       "\n",
       "    .dataframe tbody tr th {\n",
       "        vertical-align: top;\n",
       "    }\n",
       "\n",
       "    .dataframe thead th {\n",
       "        text-align: right;\n",
       "    }\n",
       "</style>\n",
       "<table border=\"1\" class=\"dataframe\">\n",
       "  <thead>\n",
       "    <tr style=\"text-align: right;\">\n",
       "      <th></th>\n",
       "      <th>Unnamed: 0</th>\n",
       "      <th>CoronaData</th>\n",
       "    </tr>\n",
       "  </thead>\n",
       "  <tbody>\n",
       "    <tr>\n",
       "      <th>0</th>\n",
       "      <td>TotalCases</td>\n",
       "      <td>44,994,407</td>\n",
       "    </tr>\n",
       "    <tr>\n",
       "      <th>1</th>\n",
       "      <td>Deaths</td>\n",
       "      <td>531,910</td>\n",
       "    </tr>\n",
       "    <tr>\n",
       "      <th>2</th>\n",
       "      <td>Recovered</td>\n",
       "      <td>44,461,044</td>\n",
       "    </tr>\n",
       "  </tbody>\n",
       "</table>\n",
       "</div>"
      ],
      "text/plain": [
       "   Unnamed: 0          CoronaData\n",
       "0  TotalCases  44,994,407        \n",
       "1      Deaths             531,910\n",
       "2   Recovered          44,461,044"
      ]
     },
     "execution_count": 22,
     "metadata": {},
     "output_type": "execute_result"
    }
   ],
   "source": [
    "df_corona = pd.read_csv(\"Corona_data.csv\")\n",
    "df_corona \n",
    "\n",
    "\n"
   ]
  },
  {
   "cell_type": "markdown",
   "id": "da452406",
   "metadata": {},
   "source": [
    "# Bar plot\n"
   ]
  },
  {
   "cell_type": "code",
   "execution_count": 38,
   "id": "bc98fe79",
   "metadata": {},
   "outputs": [
    {
     "data": {
      "image/png": "[encoded data removed]",
      "text/plain": [
       "<Figure size 640x480 with 1 Axes>"
      ]
     },
     "metadata": {},
     "output_type": "display_data"
    }
   ],
   "source": [
    "\n",
    "x=[\"TotalCases\",\"Deaths\",\"Recovered\"]\n",
    "y=[44994407,531910,44461044]\n",
    "plt.bar(x,y,width=0.4,color=c)\n",
    "plt.ylabel(\"CoronaData\")\n",
    "plt.title(\"CoronaCases\")\n",
    "c=[\"y\",\"r\",\"g\"]\n",
    "plt.show()"
   ]
  },
  {
   "cell_type": "code",
   "execution_count": null,
   "id": "6723b129",
   "metadata": {},
   "outputs": [],
   "source": []
  }
 ],
 "metadata": {
  "kernelspec": {
   "display_name": "Python 3 (ipykernel)",
   "language": "python",
   "name": "python3"
  },
  "language_info": {
   "codemirror_mode": {
    "name": "ipython",
    "version": 3
   },
   "file_extension": ".py",
   "mimetype": "text/x-python",
   "name": "python",
   "nbconvert_exporter": "python",
   "pygments_lexer": "ipython3",
   "version": "3.10.9"
  }
 },
 "nbformat": 4,
 "nbformat_minor": 5
}
